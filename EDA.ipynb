{
 "cells": [
  {
   "attachments": {},
   "cell_type": "markdown",
   "metadata": {},
   "source": [
    "To do the EDA and modeeling Autogluon library is needed and it can be donwloaded from \n",
    "https://auto.gluon.ai/stable/tutorials/tabular/tabular-quick-start.html\n",
    "this is important only to get the feeling of data in terms of statistics and fitting a naive model and missing values analysis and lastly the distibution of returns"
   ]
  },
  {
   "cell_type": "code",
   "execution_count": null,
   "metadata": {},
   "outputs": [],
   "source": [
    "import autogluon.eda.auto as auto\n",
    "import pandas as pd\n",
    "import autogluon.eda.analysis as eda\n",
    "import autogluon.eda.visualization as viz\n",
    "import matplotlib.pyplot as plt\n",
    "import seaborn as sns"
   ]
  },
  {
   "cell_type": "code",
   "execution_count": null,
   "metadata": {},
   "outputs": [],
   "source": [
    "df1 = pd.read_pickle('./data/final_dataset.pkl')"
   ]
  },
  {
   "attachments": {},
   "cell_type": "markdown",
   "metadata": {},
   "source": [
    "Bond and Macro features analysis"
   ]
  },
  {
   "cell_type": "code",
   "execution_count": null,
   "metadata": {},
   "outputs": [],
   "source": [
    "\n",
    "df1['dates'] = pd.to_datetime(df1['dates'].astype(str), format='%Y%m')\n",
    "bond_features = ['age','coupon','ratings','yields','duration','excreturn','one_month_lag','two_month_lag'\n",
    "'three_month_lag','spread','6_month_momentum','volatility','skew','VaR' , 'mom6mspread', 'duration'\n",
    "'mom6xrtg', 'mom6industry', 'face_value','time_to_maturity', 't_bill', 'term_spread', 'inflation']\n",
    "bond_features_d_t = ['cusip']+['dates'] + bond_features\n",
    "df = df1[df1.columns.intersection(bond_features_d_t)]\n",
    "target_col = 'excreturn'\n",
    "#print(df.describe())"
   ]
  },
  {
   "cell_type": "code",
   "execution_count": null,
   "metadata": {},
   "outputs": [],
   "source": [
    "\n",
    "\n",
    "categorical_col = 'cusip'\n",
    "target_col = 'excreturn'\n",
    "plt.figure(figsize=(10, 6))\n",
    "sns.boxplot(data=df, x=categorical_col, y=target_col)\n",
    "plt.title(f\"Distribution of Target by {categorical_col}\")\n",
    "plt.xlabel(categorical_col)\n",
    "plt.ylabel(\"Target Value\")"
   ]
  },
  {
   "cell_type": "code",
   "execution_count": null,
   "metadata": {},
   "outputs": [],
   "source": [
    "\n",
    "for i in bond_features_d_t:\n",
    "    auto.analyze_interaction(train_data=df,x = i, y=target_col)"
   ]
  },
  {
   "cell_type": "code",
   "execution_count": null,
   "metadata": {},
   "outputs": [],
   "source": [
    "auto.missing_values_analysis(train_data=df)"
   ]
  },
  {
   "cell_type": "code",
   "execution_count": null,
   "metadata": {},
   "outputs": [],
   "source": [
    "df[df.excreturn.isna()]"
   ]
  },
  {
   "cell_type": "code",
   "execution_count": null,
   "metadata": {},
   "outputs": [],
   "source": [
    "df.interpolate(method='bfill', inplace=True)\n",
    "df['dates'] = pd.to_datetime(df['dates'])\n",
    "\n",
    "train_start = pd.to_datetime('2002-04-01')\n",
    "train_end = pd.to_datetime('2018-12-01')\n",
    "##val_start = pd.to_datetime('2013-01-01')\n",
    "# #val_end = pd.to_datetime('2018-12-01')\n",
    "test_start = pd.to_datetime('2019-01-01')\n",
    "test_end = pd.to_datetime('2020-06-01')\n",
    "\n",
    "train_data = df[(df['dates'] >= train_start) & (df['dates'] <= train_end)]\n",
    "##val_data = df[(df['dates'] >= val_start) & (df['dates'] <= val_end)]\n",
    "test_data = df[(df['dates'] >= test_start) & (df['dates'] <= test_end)]\n",
    "# Print the train, validation, and test data\n",
    "print(\"Train Data:\")\n",
    "print(train_data)\n",
    "#print(\"\\nValidation Data:\")\n",
    "#print(val_data)\n",
    "print(\"\\nTest Data:\")\n",
    "print(test_data)"
   ]
  },
  {
   "cell_type": "code",
   "execution_count": null,
   "metadata": {},
   "outputs": [],
   "source": [
    "state = auto.quick_fit(train_data, target_col, fit_bagging_folds=3, return_state=True)"
   ]
  },
  {
   "cell_type": "code",
   "execution_count": null,
   "metadata": {},
   "outputs": [],
   "source": [
    "model = state.model\n",
    "y_pred = model.predict(test_data)\n",
    "auto.analyze_interaction(\n",
    "train_data=pd.DataFrame({'Return_Pred': y_pred}), x='Return_Pred',\n",
    "    fit_distributions=['johnsonsu', 'norm', 'exponnorm']\n",
    ")"
   ]
  },
  {
   "cell_type": "code",
   "execution_count": null,
   "metadata": {},
   "outputs": [],
   "source": [
    "auto.dataset_overview(train_data=df, label=target_col)"
   ]
  },
  {
   "cell_type": "code",
   "execution_count": null,
   "metadata": {},
   "outputs": [],
   "source": [
    "auto.partial_dependence_plots(train_data=..., label=..., features=['feature_a', 'feature_b'], two_way=True)"
   ]
  },
  {
   "attachments": {},
   "cell_type": "markdown",
   "metadata": {},
   "source": [
    "With Equity features"
   ]
  },
  {
   "cell_type": "code",
   "execution_count": null,
   "metadata": {},
   "outputs": [],
   "source": [
    "equity_features = ['profitability', 'profitability_change',' interest-to-debt:','equity_market_cap','debt_to_equity',\n",
    "                   'firm_total_debt','book_leverage','ret_6_1_ind','market_leverage','turover_volatility',\n",
    "                   'debt_to_ebitda','book_to_market', 'earnings_to_price']\n",
    "\n",
    "equity_features_d_t = ['cusip']+['dates'] + ['excreturn'] + equity_features\n",
    "df = df1[df1.columns.intersection(equity_features_d_t)]\n",
    "df['dates'] = pd.to_datetime(df['dates'])\n",
    "target_col = 'excreturn'\n",
    "#print(df.describe())\n",
    "df['dates'] = pd.to_datetime(df['dates'])"
   ]
  },
  {
   "cell_type": "code",
   "execution_count": null,
   "metadata": {},
   "outputs": [],
   "source": [
    "categorical_col = 'cusip'\n",
    "target_col = 'excreturn'\n",
    "plt.figure(figsize=(10, 6))\n",
    "sns.boxplot(data=df, x=categorical_col, y=target_col)\n",
    "plt.title(f\"Distribution of Target by {categorical_col}\")\n",
    "plt.xlabel(categorical_col)\n",
    "plt.ylabel(\"Target Value\")"
   ]
  },
  {
   "cell_type": "code",
   "execution_count": null,
   "metadata": {},
   "outputs": [],
   "source": [
    "for i in bond_features_d_t:\n",
    "    auto.analyze_interaction(train_data=df,x = i, y=target_col)"
   ]
  },
  {
   "cell_type": "code",
   "execution_count": null,
   "metadata": {},
   "outputs": [],
   "source": [
    "auto.missing_values_analysis(train_data=df)"
   ]
  },
  {
   "cell_type": "code",
   "execution_count": null,
   "metadata": {},
   "outputs": [],
   "source": [
    "df.interpolate(method='bfill', inplace=True)\n",
    "df['dates'] = pd.to_datetime(df['dates'])\n",
    "\n",
    "train_start = pd.to_datetime('2002-04-01')\n",
    "train_end = pd.to_datetime('2018-12-01')\n",
    "##val_start = pd.to_datetime('2013-01-01')\n",
    "# #val_end = pd.to_datetime('2018-12-01')\n",
    "test_start = pd.to_datetime('2019-01-01')\n",
    "test_end = pd.to_datetime('2020-06-01')\n",
    "\n",
    "train_data = df[(df['dates'] >= train_start) & (df['dates'] <= train_end)]\n",
    "##val_data = df[(df['dates'] >= val_start) & (df['dates'] <= val_end)]\n",
    "test_data = df[(df['dates'] >= test_start) & (df['dates'] <= test_end)]\n",
    "# Print the train, validation, and test data\n",
    "print(\"Train Data:\")\n",
    "print(train_data)\n",
    "#print(\"\\nValidation Data:\")\n",
    "#print(val_data)\n",
    "print(\"\\nTest Data:\")\n",
    "print(test_data)"
   ]
  },
  {
   "cell_type": "code",
   "execution_count": null,
   "metadata": {},
   "outputs": [],
   "source": [
    "state = auto.quick_fit(train_data, target_col, fit_bagging_folds=3, return_state=True)"
   ]
  },
  {
   "cell_type": "code",
   "execution_count": null,
   "metadata": {},
   "outputs": [],
   "source": [
    "auto.dataset_overview(train_data=df, label=target_col)"
   ]
  },
  {
   "cell_type": "code",
   "execution_count": null,
   "metadata": {},
   "outputs": [],
   "source": [
    "auto.partial_dependence_plots(train_data=..., label=..., features=['feature_a', 'feature_b'], two_way=True)"
   ]
  }
 ],
 "metadata": {
  "kernelspec": {
   "display_name": "Python 3",
   "language": "python",
   "name": "python3"
  },
  "language_info": {
   "codemirror_mode": {
    "name": "ipython",
    "version": 3
   },
   "file_extension": ".py",
   "mimetype": "text/x-python",
   "name": "python",
   "nbconvert_exporter": "python",
   "pygments_lexer": "ipython3",
   "version": "3.9.17"
  },
  "orig_nbformat": 4
 },
 "nbformat": 4,
 "nbformat_minor": 2
}
